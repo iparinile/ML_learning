{
  "nbformat": 4,
  "nbformat_minor": 0,
  "metadata": {
    "colab": {
      "name": "Copy of keras_mnist(sozykin).ipynb",
      "provenance": [],
      "collapsed_sections": [
        "mYpJ4H5B6SrY",
        "icRy0aP36Zzc",
        "fkINgCm46iVd",
        "UNII8qD96qH2"
      ],
      "include_colab_link": true
    },
    "kernelspec": {
      "name": "python3",
      "display_name": "Python 3"
    }
  },
  "cells": [
    {
      "cell_type": "markdown",
      "metadata": {
        "id": "view-in-github",
        "colab_type": "text"
      },
      "source": [
        "<a href=\"https://colab.research.google.com/github/iparinile/ML_learning/blob/master/Copy_of_keras_mnist(sozykin).ipynb\" target=\"_parent\"><img src=\"https://colab.research.google.com/assets/colab-badge.svg\" alt=\"Open In Colab\"/></a>"
      ]
    },
    {
      "cell_type": "markdown",
      "metadata": {
        "id": "mYpJ4H5B6SrY",
        "colab_type": "text"
      },
      "source": [
        "## Инициализация"
      ]
    },
    {
      "cell_type": "code",
      "metadata": {
        "id": "BcNaLvVv3IUE",
        "colab_type": "code",
        "colab": {
          "base_uri": "https://localhost:8080/",
          "height": 34
        },
        "outputId": "e9e22a72-871f-4007-f4b4-6faa14fffb84"
      },
      "source": [
        "# импорт нужных библиотек\n",
        "import numpy\n",
        "import keras\n",
        "from keras.datasets import mnist\n",
        "from keras.models import Sequential\n",
        "from keras.layers import Dense\n",
        "from keras.utils import np_utils"
      ],
      "execution_count": 1,
      "outputs": [
        {
          "output_type": "stream",
          "text": [
            "Using TensorFlow backend.\n"
          ],
          "name": "stderr"
        }
      ]
    },
    {
      "cell_type": "code",
      "metadata": {
        "id": "fkpTrjjC3RFQ",
        "colab_type": "code",
        "colab": {}
      },
      "source": [
        "# Устанавливаем seed для повторяемости результатов\n",
        "numpy.random.seed(42)"
      ],
      "execution_count": 0,
      "outputs": []
    },
    {
      "cell_type": "markdown",
      "metadata": {
        "id": "icRy0aP36Zzc",
        "colab_type": "text"
      },
      "source": [
        "## Подготовка данных"
      ]
    },
    {
      "cell_type": "code",
      "metadata": {
        "id": "6q3Nmjuh3YbT",
        "colab_type": "code",
        "colab": {
          "base_uri": "https://localhost:8080/",
          "height": 51
        },
        "outputId": "4dda7184-351d-4e82-a8c1-f8f371f7dd0f"
      },
      "source": [
        "# Загружаем данные\n",
        "(X_train, y_train), (X_test, y_test) = mnist.load_data()"
      ],
      "execution_count": 3,
      "outputs": [
        {
          "output_type": "stream",
          "text": [
            "Downloading data from https://s3.amazonaws.com/img-datasets/mnist.npz\n",
            "11493376/11490434 [==============================] - 1s 0us/step\n"
          ],
          "name": "stdout"
        }
      ]
    },
    {
      "cell_type": "code",
      "metadata": {
        "id": "fGyhapxW5MZf",
        "colab_type": "code",
        "colab": {}
      },
      "source": [
        "# Преобразование размерности изображений\n",
        "X_train = X_train.reshape(60000, 784)\n",
        "X_test = X_test.reshape(10000, 784)"
      ],
      "execution_count": 0,
      "outputs": []
    },
    {
      "cell_type": "code",
      "metadata": {
        "id": "IUwy5ByT5Nho",
        "colab_type": "code",
        "colab": {}
      },
      "source": [
        "# Нормализация данных\n",
        "X_train = X_train.astype('float32')\n",
        "X_test = X_test.astype('float32')\n",
        "X_train /= 255\n",
        "X_test /= 255"
      ],
      "execution_count": 0,
      "outputs": []
    },
    {
      "cell_type": "code",
      "metadata": {
        "id": "5i46PkdM5O1D",
        "colab_type": "code",
        "colab": {}
      },
      "source": [
        "# Преобразуем метки в категории\n",
        "Y_train = np_utils.to_categorical(y_train, 10)\n",
        "Y_test = np_utils.to_categorical(y_test, 10)"
      ],
      "execution_count": 0,
      "outputs": []
    },
    {
      "cell_type": "markdown",
      "metadata": {
        "id": "fkINgCm46iVd",
        "colab_type": "text"
      },
      "source": [
        "## Проектирование модели"
      ]
    },
    {
      "cell_type": "code",
      "metadata": {
        "id": "IoZXovsr5S9J",
        "colab_type": "code",
        "colab": {}
      },
      "source": [
        "# Создаем последовательную модель\n",
        "model = Sequential()"
      ],
      "execution_count": 0,
      "outputs": []
    },
    {
      "cell_type": "code",
      "metadata": {
        "id": "JnyFudWO5UFq",
        "colab_type": "code",
        "colab": {}
      },
      "source": [
        "# Добавляем уровни сети\n",
        "model.add(Dense(800, input_dim=784, activation=\"relu\", kernel_initializer=\"normal\"))\n",
        "model.add(Dense(10, activation=\"softmax\", kernel_initializer=\"normal\"))"
      ],
      "execution_count": 0,
      "outputs": []
    },
    {
      "cell_type": "code",
      "metadata": {
        "id": "r-KG_0T_5RHj",
        "colab_type": "code",
        "colab": {
          "base_uri": "https://localhost:8080/",
          "height": 238
        },
        "outputId": "cb770859-30a6-4eb4-9c81-bb351e6be6e8"
      },
      "source": [
        "# Компилируем модель\n",
        "model.compile(loss=\"categorical_crossentropy\", optimizer=\"SGD\", metrics=[\"categorical_accuracy\"])\n",
        "\n",
        "print(model.summary())"
      ],
      "execution_count": 15,
      "outputs": [
        {
          "output_type": "stream",
          "text": [
            "Model: \"sequential_2\"\n",
            "_________________________________________________________________\n",
            "Layer (type)                 Output Shape              Param #   \n",
            "=================================================================\n",
            "dense_3 (Dense)              (None, 800)               628000    \n",
            "_________________________________________________________________\n",
            "dense_4 (Dense)              (None, 10)                8010      \n",
            "=================================================================\n",
            "Total params: 636,010\n",
            "Trainable params: 636,010\n",
            "Non-trainable params: 0\n",
            "_________________________________________________________________\n",
            "None\n"
          ],
          "name": "stdout"
        }
      ]
    },
    {
      "cell_type": "markdown",
      "metadata": {
        "id": "UNII8qD96qH2",
        "colab_type": "text"
      },
      "source": [
        "## Обучение модели"
      ]
    },
    {
      "cell_type": "code",
      "metadata": {
        "id": "Sry-X5F_1qXK",
        "colab_type": "code",
        "colab": {
          "base_uri": "https://localhost:8080/",
          "height": 1000
        },
        "outputId": "ce983241-0422-4113-d86d-9d3cfa977c1f"
      },
      "source": [
        "# Остановим обучение после того, как точность в течение  эпох не будет повышаться\n",
        "es = keras.callbacks.EarlyStopping(monitor='val_categorical_accuracy', min_delta=0, patience=3, verbose=0, mode='auto')\n",
        "\n",
        "# Обучаем сеть\n",
        "model.fit(X_train, Y_train, batch_size=200, epochs=100, callbacks=[es], validation_split=0.2, verbose=1)"
      ],
      "execution_count": 17,
      "outputs": [
        {
          "output_type": "stream",
          "text": [
            "Train on 48000 samples, validate on 12000 samples\n",
            "Epoch 1/100\n",
            "48000/48000 [==============================] - 4s 90us/step - loss: 0.1832 - categorical_accuracy: 0.9496 - val_loss: 0.1867 - val_categorical_accuracy: 0.9492\n",
            "Epoch 2/100\n",
            "48000/48000 [==============================] - 4s 89us/step - loss: 0.1813 - categorical_accuracy: 0.9503 - val_loss: 0.1850 - val_categorical_accuracy: 0.9494\n",
            "Epoch 3/100\n",
            "48000/48000 [==============================] - 4s 90us/step - loss: 0.1794 - categorical_accuracy: 0.9507 - val_loss: 0.1831 - val_categorical_accuracy: 0.9503\n",
            "Epoch 4/100\n",
            "48000/48000 [==============================] - 4s 90us/step - loss: 0.1774 - categorical_accuracy: 0.9511 - val_loss: 0.1817 - val_categorical_accuracy: 0.9509\n",
            "Epoch 5/100\n",
            "48000/48000 [==============================] - 4s 89us/step - loss: 0.1756 - categorical_accuracy: 0.9517 - val_loss: 0.1802 - val_categorical_accuracy: 0.9508\n",
            "Epoch 6/100\n",
            "48000/48000 [==============================] - 4s 88us/step - loss: 0.1737 - categorical_accuracy: 0.9524 - val_loss: 0.1788 - val_categorical_accuracy: 0.9512\n",
            "Epoch 7/100\n",
            "48000/48000 [==============================] - 4s 90us/step - loss: 0.1720 - categorical_accuracy: 0.9526 - val_loss: 0.1770 - val_categorical_accuracy: 0.9525\n",
            "Epoch 8/100\n",
            "48000/48000 [==============================] - 4s 91us/step - loss: 0.1702 - categorical_accuracy: 0.9535 - val_loss: 0.1760 - val_categorical_accuracy: 0.9518\n",
            "Epoch 9/100\n",
            "48000/48000 [==============================] - 4s 88us/step - loss: 0.1685 - categorical_accuracy: 0.9538 - val_loss: 0.1746 - val_categorical_accuracy: 0.9522\n",
            "Epoch 10/100\n",
            "48000/48000 [==============================] - 4s 89us/step - loss: 0.1668 - categorical_accuracy: 0.9541 - val_loss: 0.1730 - val_categorical_accuracy: 0.9535\n",
            "Epoch 11/100\n",
            "48000/48000 [==============================] - 4s 89us/step - loss: 0.1651 - categorical_accuracy: 0.9546 - val_loss: 0.1717 - val_categorical_accuracy: 0.9534\n",
            "Epoch 12/100\n",
            "48000/48000 [==============================] - 4s 89us/step - loss: 0.1634 - categorical_accuracy: 0.9551 - val_loss: 0.1707 - val_categorical_accuracy: 0.9532\n",
            "Epoch 13/100\n",
            "48000/48000 [==============================] - 4s 89us/step - loss: 0.1618 - categorical_accuracy: 0.9554 - val_loss: 0.1694 - val_categorical_accuracy: 0.9538\n",
            "Epoch 14/100\n",
            "48000/48000 [==============================] - 4s 88us/step - loss: 0.1602 - categorical_accuracy: 0.9559 - val_loss: 0.1680 - val_categorical_accuracy: 0.9540\n",
            "Epoch 15/100\n",
            "48000/48000 [==============================] - 4s 90us/step - loss: 0.1587 - categorical_accuracy: 0.9565 - val_loss: 0.1667 - val_categorical_accuracy: 0.9543\n",
            "Epoch 16/100\n",
            "48000/48000 [==============================] - 4s 90us/step - loss: 0.1572 - categorical_accuracy: 0.9566 - val_loss: 0.1653 - val_categorical_accuracy: 0.9550\n",
            "Epoch 17/100\n",
            "48000/48000 [==============================] - 4s 89us/step - loss: 0.1557 - categorical_accuracy: 0.9568 - val_loss: 0.1643 - val_categorical_accuracy: 0.9548\n",
            "Epoch 18/100\n",
            "48000/48000 [==============================] - 4s 89us/step - loss: 0.1541 - categorical_accuracy: 0.9573 - val_loss: 0.1633 - val_categorical_accuracy: 0.9558\n",
            "Epoch 19/100\n",
            "48000/48000 [==============================] - 4s 89us/step - loss: 0.1527 - categorical_accuracy: 0.9581 - val_loss: 0.1619 - val_categorical_accuracy: 0.9554\n",
            "Epoch 20/100\n",
            "48000/48000 [==============================] - 4s 90us/step - loss: 0.1512 - categorical_accuracy: 0.9584 - val_loss: 0.1613 - val_categorical_accuracy: 0.9552\n",
            "Epoch 21/100\n",
            "48000/48000 [==============================] - 4s 89us/step - loss: 0.1499 - categorical_accuracy: 0.9586 - val_loss: 0.1596 - val_categorical_accuracy: 0.9563\n",
            "Epoch 22/100\n",
            "48000/48000 [==============================] - 4s 91us/step - loss: 0.1486 - categorical_accuracy: 0.9591 - val_loss: 0.1586 - val_categorical_accuracy: 0.9568\n",
            "Epoch 23/100\n",
            "48000/48000 [==============================] - 4s 88us/step - loss: 0.1472 - categorical_accuracy: 0.9596 - val_loss: 0.1578 - val_categorical_accuracy: 0.9571\n",
            "Epoch 24/100\n",
            "48000/48000 [==============================] - 4s 89us/step - loss: 0.1459 - categorical_accuracy: 0.9600 - val_loss: 0.1565 - val_categorical_accuracy: 0.9572\n",
            "Epoch 25/100\n",
            "48000/48000 [==============================] - 4s 89us/step - loss: 0.1445 - categorical_accuracy: 0.9600 - val_loss: 0.1556 - val_categorical_accuracy: 0.9573\n",
            "Epoch 26/100\n",
            "48000/48000 [==============================] - 4s 88us/step - loss: 0.1433 - categorical_accuracy: 0.9606 - val_loss: 0.1545 - val_categorical_accuracy: 0.9578\n",
            "Epoch 27/100\n",
            "48000/48000 [==============================] - 4s 88us/step - loss: 0.1420 - categorical_accuracy: 0.9611 - val_loss: 0.1540 - val_categorical_accuracy: 0.9578\n",
            "Epoch 28/100\n",
            "48000/48000 [==============================] - 4s 87us/step - loss: 0.1408 - categorical_accuracy: 0.9615 - val_loss: 0.1526 - val_categorical_accuracy: 0.9580\n",
            "Epoch 29/100\n",
            "48000/48000 [==============================] - 4s 88us/step - loss: 0.1395 - categorical_accuracy: 0.9617 - val_loss: 0.1518 - val_categorical_accuracy: 0.9583\n",
            "Epoch 30/100\n",
            "48000/48000 [==============================] - 4s 88us/step - loss: 0.1383 - categorical_accuracy: 0.9621 - val_loss: 0.1510 - val_categorical_accuracy: 0.9585\n",
            "Epoch 31/100\n",
            "48000/48000 [==============================] - 4s 88us/step - loss: 0.1372 - categorical_accuracy: 0.9628 - val_loss: 0.1501 - val_categorical_accuracy: 0.9584\n",
            "Epoch 32/100\n",
            "48000/48000 [==============================] - 4s 87us/step - loss: 0.1359 - categorical_accuracy: 0.9632 - val_loss: 0.1492 - val_categorical_accuracy: 0.9589\n",
            "Epoch 33/100\n",
            "48000/48000 [==============================] - 4s 88us/step - loss: 0.1348 - categorical_accuracy: 0.9635 - val_loss: 0.1482 - val_categorical_accuracy: 0.9593\n",
            "Epoch 34/100\n",
            "48000/48000 [==============================] - 4s 87us/step - loss: 0.1337 - categorical_accuracy: 0.9635 - val_loss: 0.1472 - val_categorical_accuracy: 0.9594\n",
            "Epoch 35/100\n",
            "48000/48000 [==============================] - 4s 87us/step - loss: 0.1325 - categorical_accuracy: 0.9642 - val_loss: 0.1465 - val_categorical_accuracy: 0.9593\n",
            "Epoch 36/100\n",
            "48000/48000 [==============================] - 4s 87us/step - loss: 0.1315 - categorical_accuracy: 0.9643 - val_loss: 0.1457 - val_categorical_accuracy: 0.9598\n",
            "Epoch 37/100\n",
            "48000/48000 [==============================] - 4s 87us/step - loss: 0.1304 - categorical_accuracy: 0.9645 - val_loss: 0.1448 - val_categorical_accuracy: 0.9593\n",
            "Epoch 38/100\n",
            "48000/48000 [==============================] - 4s 87us/step - loss: 0.1293 - categorical_accuracy: 0.9648 - val_loss: 0.1440 - val_categorical_accuracy: 0.9605\n",
            "Epoch 39/100\n",
            "48000/48000 [==============================] - 4s 87us/step - loss: 0.1283 - categorical_accuracy: 0.9653 - val_loss: 0.1433 - val_categorical_accuracy: 0.9600\n",
            "Epoch 40/100\n",
            "48000/48000 [==============================] - 4s 88us/step - loss: 0.1273 - categorical_accuracy: 0.9655 - val_loss: 0.1425 - val_categorical_accuracy: 0.9603\n",
            "Epoch 41/100\n",
            "48000/48000 [==============================] - 4s 88us/step - loss: 0.1263 - categorical_accuracy: 0.9659 - val_loss: 0.1417 - val_categorical_accuracy: 0.9606\n",
            "Epoch 42/100\n",
            "48000/48000 [==============================] - 4s 88us/step - loss: 0.1252 - categorical_accuracy: 0.9662 - val_loss: 0.1408 - val_categorical_accuracy: 0.9606\n",
            "Epoch 43/100\n",
            "48000/48000 [==============================] - 4s 87us/step - loss: 0.1243 - categorical_accuracy: 0.9666 - val_loss: 0.1403 - val_categorical_accuracy: 0.9605\n",
            "Epoch 44/100\n",
            "48000/48000 [==============================] - 4s 87us/step - loss: 0.1233 - categorical_accuracy: 0.9669 - val_loss: 0.1394 - val_categorical_accuracy: 0.9613\n",
            "Epoch 45/100\n",
            "48000/48000 [==============================] - 4s 88us/step - loss: 0.1223 - categorical_accuracy: 0.9671 - val_loss: 0.1387 - val_categorical_accuracy: 0.9613\n",
            "Epoch 46/100\n",
            "48000/48000 [==============================] - 4s 87us/step - loss: 0.1214 - categorical_accuracy: 0.9676 - val_loss: 0.1381 - val_categorical_accuracy: 0.9618\n",
            "Epoch 47/100\n",
            "48000/48000 [==============================] - 4s 89us/step - loss: 0.1204 - categorical_accuracy: 0.9679 - val_loss: 0.1375 - val_categorical_accuracy: 0.9615\n",
            "Epoch 48/100\n",
            "48000/48000 [==============================] - 4s 88us/step - loss: 0.1195 - categorical_accuracy: 0.9681 - val_loss: 0.1367 - val_categorical_accuracy: 0.9618\n",
            "Epoch 49/100\n",
            "48000/48000 [==============================] - 4s 87us/step - loss: 0.1186 - categorical_accuracy: 0.9684 - val_loss: 0.1361 - val_categorical_accuracy: 0.9623\n",
            "Epoch 50/100\n",
            "48000/48000 [==============================] - 4s 88us/step - loss: 0.1177 - categorical_accuracy: 0.9686 - val_loss: 0.1353 - val_categorical_accuracy: 0.9628\n",
            "Epoch 51/100\n",
            "48000/48000 [==============================] - 4s 88us/step - loss: 0.1168 - categorical_accuracy: 0.9689 - val_loss: 0.1349 - val_categorical_accuracy: 0.9625\n",
            "Epoch 52/100\n",
            "48000/48000 [==============================] - 4s 89us/step - loss: 0.1159 - categorical_accuracy: 0.9691 - val_loss: 0.1342 - val_categorical_accuracy: 0.9628\n",
            "Epoch 53/100\n",
            "48000/48000 [==============================] - 4s 89us/step - loss: 0.1151 - categorical_accuracy: 0.9696 - val_loss: 0.1337 - val_categorical_accuracy: 0.9628\n",
            "Epoch 54/100\n",
            "48000/48000 [==============================] - 4s 90us/step - loss: 0.1142 - categorical_accuracy: 0.9698 - val_loss: 0.1330 - val_categorical_accuracy: 0.9628\n",
            "Epoch 55/100\n",
            "38000/48000 [======================>.......] - ETA: 0s - loss: 0.1129 - categorical_accuracy: 0.9697"
          ],
          "name": "stdout"
        },
        {
          "output_type": "error",
          "ename": "KeyboardInterrupt",
          "evalue": "ignored",
          "traceback": [
            "\u001b[0;31m---------------------------------------------------------------------------\u001b[0m",
            "\u001b[0;31mKeyboardInterrupt\u001b[0m                         Traceback (most recent call last)",
            "\u001b[0;32m<ipython-input-17-f53fdc8bb253>\u001b[0m in \u001b[0;36m<module>\u001b[0;34m()\u001b[0m\n\u001b[1;32m      2\u001b[0m \u001b[0;34m\u001b[0m\u001b[0m\n\u001b[1;32m      3\u001b[0m \u001b[0;31m# Обучаем сеть\u001b[0m\u001b[0;34m\u001b[0m\u001b[0;34m\u001b[0m\u001b[0;34m\u001b[0m\u001b[0m\n\u001b[0;32m----> 4\u001b[0;31m \u001b[0mmodel\u001b[0m\u001b[0;34m.\u001b[0m\u001b[0mfit\u001b[0m\u001b[0;34m(\u001b[0m\u001b[0mX_train\u001b[0m\u001b[0;34m,\u001b[0m \u001b[0mY_train\u001b[0m\u001b[0;34m,\u001b[0m \u001b[0mbatch_size\u001b[0m\u001b[0;34m=\u001b[0m\u001b[0;36m200\u001b[0m\u001b[0;34m,\u001b[0m \u001b[0mepochs\u001b[0m\u001b[0;34m=\u001b[0m\u001b[0;36m100\u001b[0m\u001b[0;34m,\u001b[0m \u001b[0mcallbacks\u001b[0m\u001b[0;34m=\u001b[0m\u001b[0;34m[\u001b[0m\u001b[0mes\u001b[0m\u001b[0;34m]\u001b[0m\u001b[0;34m,\u001b[0m \u001b[0mvalidation_split\u001b[0m\u001b[0;34m=\u001b[0m\u001b[0;36m0.2\u001b[0m\u001b[0;34m,\u001b[0m \u001b[0mverbose\u001b[0m\u001b[0;34m=\u001b[0m\u001b[0;36m1\u001b[0m\u001b[0;34m)\u001b[0m\u001b[0;34m\u001b[0m\u001b[0;34m\u001b[0m\u001b[0m\n\u001b[0m",
            "\u001b[0;32m/usr/local/lib/python3.6/dist-packages/keras/engine/training.py\u001b[0m in \u001b[0;36mfit\u001b[0;34m(self, x, y, batch_size, epochs, verbose, callbacks, validation_split, validation_data, shuffle, class_weight, sample_weight, initial_epoch, steps_per_epoch, validation_steps, validation_freq, max_queue_size, workers, use_multiprocessing, **kwargs)\u001b[0m\n\u001b[1;32m   1176\u001b[0m                                         \u001b[0msteps_per_epoch\u001b[0m\u001b[0;34m=\u001b[0m\u001b[0msteps_per_epoch\u001b[0m\u001b[0;34m,\u001b[0m\u001b[0;34m\u001b[0m\u001b[0;34m\u001b[0m\u001b[0m\n\u001b[1;32m   1177\u001b[0m                                         \u001b[0mvalidation_steps\u001b[0m\u001b[0;34m=\u001b[0m\u001b[0mvalidation_steps\u001b[0m\u001b[0;34m,\u001b[0m\u001b[0;34m\u001b[0m\u001b[0;34m\u001b[0m\u001b[0m\n\u001b[0;32m-> 1178\u001b[0;31m                                         validation_freq=validation_freq)\n\u001b[0m\u001b[1;32m   1179\u001b[0m \u001b[0;34m\u001b[0m\u001b[0m\n\u001b[1;32m   1180\u001b[0m     def evaluate(self,\n",
            "\u001b[0;32m/usr/local/lib/python3.6/dist-packages/keras/engine/training_arrays.py\u001b[0m in \u001b[0;36mfit_loop\u001b[0;34m(model, fit_function, fit_inputs, out_labels, batch_size, epochs, verbose, callbacks, val_function, val_inputs, shuffle, callback_metrics, initial_epoch, steps_per_epoch, validation_steps, validation_freq)\u001b[0m\n\u001b[1;32m    202\u001b[0m                     \u001b[0mins_batch\u001b[0m\u001b[0;34m[\u001b[0m\u001b[0mi\u001b[0m\u001b[0;34m]\u001b[0m \u001b[0;34m=\u001b[0m \u001b[0mins_batch\u001b[0m\u001b[0;34m[\u001b[0m\u001b[0mi\u001b[0m\u001b[0;34m]\u001b[0m\u001b[0;34m.\u001b[0m\u001b[0mtoarray\u001b[0m\u001b[0;34m(\u001b[0m\u001b[0;34m)\u001b[0m\u001b[0;34m\u001b[0m\u001b[0;34m\u001b[0m\u001b[0m\n\u001b[1;32m    203\u001b[0m \u001b[0;34m\u001b[0m\u001b[0m\n\u001b[0;32m--> 204\u001b[0;31m                 \u001b[0mouts\u001b[0m \u001b[0;34m=\u001b[0m \u001b[0mfit_function\u001b[0m\u001b[0;34m(\u001b[0m\u001b[0mins_batch\u001b[0m\u001b[0;34m)\u001b[0m\u001b[0;34m\u001b[0m\u001b[0;34m\u001b[0m\u001b[0m\n\u001b[0m\u001b[1;32m    205\u001b[0m                 \u001b[0mouts\u001b[0m \u001b[0;34m=\u001b[0m \u001b[0mto_list\u001b[0m\u001b[0;34m(\u001b[0m\u001b[0mouts\u001b[0m\u001b[0;34m)\u001b[0m\u001b[0;34m\u001b[0m\u001b[0;34m\u001b[0m\u001b[0m\n\u001b[1;32m    206\u001b[0m                 \u001b[0;32mfor\u001b[0m \u001b[0ml\u001b[0m\u001b[0;34m,\u001b[0m \u001b[0mo\u001b[0m \u001b[0;32min\u001b[0m \u001b[0mzip\u001b[0m\u001b[0;34m(\u001b[0m\u001b[0mout_labels\u001b[0m\u001b[0;34m,\u001b[0m \u001b[0mouts\u001b[0m\u001b[0;34m)\u001b[0m\u001b[0;34m:\u001b[0m\u001b[0;34m\u001b[0m\u001b[0;34m\u001b[0m\u001b[0m\n",
            "\u001b[0;32m/usr/local/lib/python3.6/dist-packages/keras/backend/tensorflow_backend.py\u001b[0m in \u001b[0;36m__call__\u001b[0;34m(self, inputs)\u001b[0m\n\u001b[1;32m   2977\u001b[0m                     \u001b[0;32mreturn\u001b[0m \u001b[0mself\u001b[0m\u001b[0;34m.\u001b[0m\u001b[0m_legacy_call\u001b[0m\u001b[0;34m(\u001b[0m\u001b[0minputs\u001b[0m\u001b[0;34m)\u001b[0m\u001b[0;34m\u001b[0m\u001b[0;34m\u001b[0m\u001b[0m\n\u001b[1;32m   2978\u001b[0m \u001b[0;34m\u001b[0m\u001b[0m\n\u001b[0;32m-> 2979\u001b[0;31m             \u001b[0;32mreturn\u001b[0m \u001b[0mself\u001b[0m\u001b[0;34m.\u001b[0m\u001b[0m_call\u001b[0m\u001b[0;34m(\u001b[0m\u001b[0minputs\u001b[0m\u001b[0;34m)\u001b[0m\u001b[0;34m\u001b[0m\u001b[0;34m\u001b[0m\u001b[0m\n\u001b[0m\u001b[1;32m   2980\u001b[0m         \u001b[0;32melse\u001b[0m\u001b[0;34m:\u001b[0m\u001b[0;34m\u001b[0m\u001b[0;34m\u001b[0m\u001b[0m\n\u001b[1;32m   2981\u001b[0m             \u001b[0;32mif\u001b[0m \u001b[0mpy_any\u001b[0m\u001b[0;34m(\u001b[0m\u001b[0mis_tensor\u001b[0m\u001b[0;34m(\u001b[0m\u001b[0mx\u001b[0m\u001b[0;34m)\u001b[0m \u001b[0;32mfor\u001b[0m \u001b[0mx\u001b[0m \u001b[0;32min\u001b[0m \u001b[0minputs\u001b[0m\u001b[0;34m)\u001b[0m\u001b[0;34m:\u001b[0m\u001b[0;34m\u001b[0m\u001b[0;34m\u001b[0m\u001b[0m\n",
            "\u001b[0;32m/usr/local/lib/python3.6/dist-packages/keras/backend/tensorflow_backend.py\u001b[0m in \u001b[0;36m_call\u001b[0;34m(self, inputs)\u001b[0m\n\u001b[1;32m   2935\u001b[0m             \u001b[0mfetched\u001b[0m \u001b[0;34m=\u001b[0m \u001b[0mself\u001b[0m\u001b[0;34m.\u001b[0m\u001b[0m_callable_fn\u001b[0m\u001b[0;34m(\u001b[0m\u001b[0;34m*\u001b[0m\u001b[0marray_vals\u001b[0m\u001b[0;34m,\u001b[0m \u001b[0mrun_metadata\u001b[0m\u001b[0;34m=\u001b[0m\u001b[0mself\u001b[0m\u001b[0;34m.\u001b[0m\u001b[0mrun_metadata\u001b[0m\u001b[0;34m)\u001b[0m\u001b[0;34m\u001b[0m\u001b[0;34m\u001b[0m\u001b[0m\n\u001b[1;32m   2936\u001b[0m         \u001b[0;32melse\u001b[0m\u001b[0;34m:\u001b[0m\u001b[0;34m\u001b[0m\u001b[0;34m\u001b[0m\u001b[0m\n\u001b[0;32m-> 2937\u001b[0;31m             \u001b[0mfetched\u001b[0m \u001b[0;34m=\u001b[0m \u001b[0mself\u001b[0m\u001b[0;34m.\u001b[0m\u001b[0m_callable_fn\u001b[0m\u001b[0;34m(\u001b[0m\u001b[0;34m*\u001b[0m\u001b[0marray_vals\u001b[0m\u001b[0;34m)\u001b[0m\u001b[0;34m\u001b[0m\u001b[0;34m\u001b[0m\u001b[0m\n\u001b[0m\u001b[1;32m   2938\u001b[0m         \u001b[0;32mreturn\u001b[0m \u001b[0mfetched\u001b[0m\u001b[0;34m[\u001b[0m\u001b[0;34m:\u001b[0m\u001b[0mlen\u001b[0m\u001b[0;34m(\u001b[0m\u001b[0mself\u001b[0m\u001b[0;34m.\u001b[0m\u001b[0moutputs\u001b[0m\u001b[0;34m)\u001b[0m\u001b[0;34m]\u001b[0m\u001b[0;34m\u001b[0m\u001b[0;34m\u001b[0m\u001b[0m\n\u001b[1;32m   2939\u001b[0m \u001b[0;34m\u001b[0m\u001b[0m\n",
            "\u001b[0;32m/usr/local/lib/python3.6/dist-packages/tensorflow_core/python/client/session.py\u001b[0m in \u001b[0;36m__call__\u001b[0;34m(self, *args, **kwargs)\u001b[0m\n\u001b[1;32m   1470\u001b[0m         ret = tf_session.TF_SessionRunCallable(self._session._session,\n\u001b[1;32m   1471\u001b[0m                                                \u001b[0mself\u001b[0m\u001b[0;34m.\u001b[0m\u001b[0m_handle\u001b[0m\u001b[0;34m,\u001b[0m \u001b[0margs\u001b[0m\u001b[0;34m,\u001b[0m\u001b[0;34m\u001b[0m\u001b[0;34m\u001b[0m\u001b[0m\n\u001b[0;32m-> 1472\u001b[0;31m                                                run_metadata_ptr)\n\u001b[0m\u001b[1;32m   1473\u001b[0m         \u001b[0;32mif\u001b[0m \u001b[0mrun_metadata\u001b[0m\u001b[0;34m:\u001b[0m\u001b[0;34m\u001b[0m\u001b[0;34m\u001b[0m\u001b[0m\n\u001b[1;32m   1474\u001b[0m           \u001b[0mproto_data\u001b[0m \u001b[0;34m=\u001b[0m \u001b[0mtf_session\u001b[0m\u001b[0;34m.\u001b[0m\u001b[0mTF_GetBuffer\u001b[0m\u001b[0;34m(\u001b[0m\u001b[0mrun_metadata_ptr\u001b[0m\u001b[0;34m)\u001b[0m\u001b[0;34m\u001b[0m\u001b[0;34m\u001b[0m\u001b[0m\n",
            "\u001b[0;31mKeyboardInterrupt\u001b[0m: "
          ]
        }
      ]
    },
    {
      "cell_type": "code",
      "metadata": {
        "id": "IcjtzNNQ5bmE",
        "colab_type": "code",
        "colab": {
          "base_uri": "https://localhost:8080/",
          "height": 34
        },
        "outputId": "c9773df9-2d99-483b-f170-cb2d4788e930"
      },
      "source": [
        "# Оцениваем качество обучения сети на тестовых данных\n",
        "scores = model.evaluate(X_test, Y_test, verbose=0)\n",
        "print(\"Точность работы на тестовых данных: %.2f%%\" % (scores[1]*100))"
      ],
      "execution_count": 18,
      "outputs": [
        {
          "output_type": "stream",
          "text": [
            "Точность работы на тестовых данных: 96.29%\n"
          ],
          "name": "stdout"
        }
      ]
    }
  ]
}