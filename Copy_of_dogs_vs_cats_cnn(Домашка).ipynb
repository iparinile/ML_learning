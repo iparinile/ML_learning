{
  "nbformat": 4,
  "nbformat_minor": 0,
  "metadata": {
    "kernelspec": {
      "name": "python3",
      "display_name": "Python 3"
    },
    "colab": {
      "name": "Copy of dogs_vs_cats_cnn(Домашка).ipynb",
      "provenance": [],
      "collapsed_sections": [],
      "include_colab_link": true
    },
    "accelerator": "GPU"
  },
  "cells": [
    {
      "cell_type": "markdown",
      "metadata": {
        "id": "view-in-github",
        "colab_type": "text"
      },
      "source": [
        "<a href=\"https://colab.research.google.com/github/iparinile/ML_learning/blob/master/Copy_of_dogs_vs_cats_cnn(%D0%94%D0%BE%D0%BC%D0%B0%D1%88%D0%BA%D0%B0).ipynb\" target=\"_parent\"><img src=\"https://colab.research.google.com/assets/colab-badge.svg\" alt=\"Open In Colab\"/></a>"
      ]
    },
    {
      "cell_type": "markdown",
      "metadata": {
        "id": "kJAXEIWIUbqO",
        "colab_type": "text"
      },
      "source": [
        "# Распознавание собак и кошек на изображениях с помощью сверточной нейронной сети\n",
        "\n",
        "**Источник данных** - соревнования Kaggle [Dogs vs. Cats](https://www.kaggle.com/c/dogs-vs-cats/data).\n",
        "\n",
        "Для распознавания используется сверточная нейронная сеть.\n",
        "\n",
        "Перед использованием необходимо скачать и подготовить данные для обучения, проверки и тестирования. Можно использовать пример в ноутбуке dogs_vs_cats_data_preparation"
      ]
    },
    {
      "cell_type": "code",
      "metadata": {
        "id": "XgYAsx_9Ubqu",
        "colab_type": "code",
        "outputId": "e5e53d54-946c-4b00-ee8c-68119c55a2c2",
        "colab": {
          "base_uri": "https://localhost:8080/",
          "height": 80
        }
      },
      "source": [
        "from tensorflow.python.keras.preprocessing.image import ImageDataGenerator\n",
        "from tensorflow.python.keras.models import Sequential\n",
        "from tensorflow.python.keras.layers import Conv2D, MaxPooling2D\n",
        "from tensorflow.python.keras.layers import Activation, Dropout, Flatten, Dense\n",
        "import keras\n",
        "import zipfile"
      ],
      "execution_count": 1,
      "outputs": [
        {
          "output_type": "display_data",
          "data": {
            "text/html": [
              "<p style=\"color: red;\">\n",
              "The default version of TensorFlow in Colab will soon switch to TensorFlow 2.x.<br>\n",
              "We recommend you <a href=\"https://www.tensorflow.org/guide/migrate\" target=\"_blank\">upgrade</a> now \n",
              "or ensure your notebook will continue to use TensorFlow 1.x via the <code>%tensorflow_version 1.x</code> magic:\n",
              "<a href=\"https://colab.research.google.com/notebooks/tensorflow_version.ipynb\" target=\"_blank\">more info</a>.</p>\n"
            ],
            "text/plain": [
              "<IPython.core.display.HTML object>"
            ]
          },
          "metadata": {
            "tags": []
          }
        },
        {
          "output_type": "stream",
          "text": [
            "Using TensorFlow backend.\n"
          ],
          "name": "stderr"
        }
      ]
    },
    {
      "cell_type": "code",
      "metadata": {
        "id": "qLt28snZgIld",
        "colab_type": "code",
        "outputId": "135dedfa-542f-42aa-be16-4facf29daf96",
        "colab": {
          "base_uri": "https://localhost:8080/",
          "height": 122
        }
      },
      "source": [
        "# Подключение Google Drive\n",
        "from google.colab import drive\n",
        "drive.mount('/content/drive')"
      ],
      "execution_count": 2,
      "outputs": [
        {
          "output_type": "stream",
          "text": [
            "Go to this URL in a browser: https://accounts.google.com/o/oauth2/auth?client_id=947318989803-6bn6qk8qdgf4n4g3pfee6491hc0brc4i.apps.googleusercontent.com&redirect_uri=urn%3Aietf%3Awg%3Aoauth%3A2.0%3Aoob&scope=email%20https%3A%2F%2Fwww.googleapis.com%2Fauth%2Fdocs.test%20https%3A%2F%2Fwww.googleapis.com%2Fauth%2Fdrive%20https%3A%2F%2Fwww.googleapis.com%2Fauth%2Fdrive.photos.readonly%20https%3A%2F%2Fwww.googleapis.com%2Fauth%2Fpeopleapi.readonly&response_type=code\n",
            "\n",
            "Enter your authorization code:\n",
            "··········\n",
            "Mounted at /content/drive\n"
          ],
          "name": "stdout"
        }
      ]
    },
    {
      "cell_type": "code",
      "metadata": {
        "id": "iq940hY0gXzw",
        "colab_type": "code",
        "colab": {}
      },
      "source": [
        "# Распаковка архива с подготовленным датасетом\n",
        "with zipfile.ZipFile('/content/drive/My Drive/dogs-vs-cats-prepared-dataset.zip', 'r') as zip_ref:\n",
        "  zip_ref.extractall('/content/')"
      ],
      "execution_count": 0,
      "outputs": []
    },
    {
      "cell_type": "code",
      "metadata": {
        "id": "JcAIIK53Ubq_",
        "colab_type": "code",
        "colab": {}
      },
      "source": [
        "# Каталог с данными для обучения\n",
        "train_dir = 'ds/train'\n",
        "# Каталог с данными для проверки\n",
        "val_dir = 'ds/val'\n",
        "# Каталог с данными для тестирования\n",
        "test_dir = 'ds/test'\n",
        "# Размеры изображения\n",
        "img_width, img_height = 150, 150\n",
        "# Размерность тензора на основе изображения для входных данных в нейронную сеть\n",
        "# backend Tensorflow, channels_last\n",
        "input_shape = (img_width, img_height, 3)\n",
        "# Количество эпох\n",
        "epochs = 30\n",
        "# Размер мини-выборки\n",
        "batch_size = 32\n",
        "# Количество изображений для обучения\n",
        "nb_train_samples = 17500\n",
        "# Количество изображений для проверки\n",
        "nb_validation_samples = 3750\n",
        "# Количество изображений для тестирования\n",
        "nb_test_samples = 3750"
      ],
      "execution_count": 0,
      "outputs": []
    },
    {
      "cell_type": "markdown",
      "metadata": {
        "id": "rEIftr0EUbrR",
        "colab_type": "text"
      },
      "source": [
        "## Создаем сверточную нейронную сеть\n",
        "\n",
        "**Архитектура сети**\n",
        "1. Слой свертки, размер ядра 3х3, количество карт признаков - 32 шт., функция активации ReLU.\n",
        "2. Слой подвыборки, выбор максимального значения из квадрата 2х2\n",
        "3. Слой свертки, размер ядра 3х3, количество карт признаков - 32 шт., функция активации ReLU.\n",
        "4. Слой подвыборки, выбор максимального значения из квадрата 2х2\n",
        "5. Слой свертки, размер ядра 3х3, количество карт признаков - 64 шт., функция активации ReLU.\n",
        "6. Слой подвыборки, выбор максимального значения из квадрата 2х2\n",
        "7. Слой преобразования из двумерного в одномерное представление\n",
        "8. Полносвязный слой, 64 нейрона, функция активации ReLU.\n",
        "9. Слой Dropout.\n",
        "10. Выходной слой, 1 нейрон, функция активации sigmoid\n",
        "\n",
        "Слои с 1 по 6 используются для выделения важных признаков в изображении, а слои с 7 по 10 - для классификации."
      ]
    },
    {
      "cell_type": "code",
      "metadata": {
        "id": "Zggc9-UjUbrU",
        "colab_type": "code",
        "outputId": "08a564b5-0768-4c58-8cc7-8db581d34dcd",
        "colab": {
          "base_uri": "https://localhost:8080/",
          "height": 88
        }
      },
      "source": [
        "model = Sequential()\n",
        "model.add(Conv2D(32, (3, 3), input_shape=input_shape))\n",
        "model.add(Activation('relu'))\n",
        "model.add(MaxPooling2D(pool_size=(2, 2)))\n",
        "\n",
        "model.add(Conv2D(32, (3, 3)))\n",
        "model.add(Activation('relu'))\n",
        "model.add(MaxPooling2D(pool_size=(2, 2)))\n",
        "\n",
        "model.add(Conv2D(64, (3, 3)))\n",
        "model.add(Activation('relu'))\n",
        "model.add(MaxPooling2D(pool_size=(2, 2)))\n",
        "\n",
        "model.add(Flatten())\n",
        "model.add(Dense(64))\n",
        "model.add(Activation('relu'))\n",
        "model.add(Dropout(0.5))\n",
        "model.add(Dense(1))\n",
        "model.add(Activation('sigmoid'))"
      ],
      "execution_count": 5,
      "outputs": [
        {
          "output_type": "stream",
          "text": [
            "WARNING:tensorflow:From /usr/local/lib/python3.6/dist-packages/tensorflow_core/python/ops/resource_variable_ops.py:1630: calling BaseResourceVariable.__init__ (from tensorflow.python.ops.resource_variable_ops) with constraint is deprecated and will be removed in a future version.\n",
            "Instructions for updating:\n",
            "If using Keras pass *_constraint arguments to layers.\n"
          ],
          "name": "stdout"
        }
      ]
    },
    {
      "cell_type": "markdown",
      "metadata": {
        "id": "xYm1FbeXUbri",
        "colab_type": "text"
      },
      "source": [
        "Компилируем нейронную сеть"
      ]
    },
    {
      "cell_type": "code",
      "metadata": {
        "id": "NqwYWln-Ubrl",
        "colab_type": "code",
        "outputId": "d2d3e335-a8c6-415f-8b57-6083baeef653",
        "colab": {
          "base_uri": "https://localhost:8080/",
          "height": 88
        }
      },
      "source": [
        "model.compile(loss='binary_crossentropy',\n",
        "              optimizer='adam',\n",
        "              metrics=['accuracy'])"
      ],
      "execution_count": 6,
      "outputs": [
        {
          "output_type": "stream",
          "text": [
            "WARNING:tensorflow:From /usr/local/lib/python3.6/dist-packages/tensorflow_core/python/ops/nn_impl.py:183: where (from tensorflow.python.ops.array_ops) is deprecated and will be removed in a future version.\n",
            "Instructions for updating:\n",
            "Use tf.where in 2.0, which has the same broadcast rule as np.where\n"
          ],
          "name": "stdout"
        }
      ]
    },
    {
      "cell_type": "markdown",
      "metadata": {
        "id": "Yu1v8r54Ubr2",
        "colab_type": "text"
      },
      "source": [
        "# Создаем генератор изображений\n",
        "\n",
        "Генератор изображений создается на основе класса ImageDataGenerator. Генератор делит значения всех пикселов изображения на 255."
      ]
    },
    {
      "cell_type": "code",
      "metadata": {
        "id": "nfTKAgs_Ubr8",
        "colab_type": "code",
        "colab": {}
      },
      "source": [
        "datagen = ImageDataGenerator(rotation_range=15,\n",
        "                            rescale=1./255,\n",
        "                            shear_range=0.1,\n",
        "                            zoom_range=0.2,\n",
        "                            horizontal_flip=True,\n",
        "                            width_shift_range=0.1,\n",
        "                            height_shift_range=0.1)\n"
      ],
      "execution_count": 0,
      "outputs": []
    },
    {
      "cell_type": "markdown",
      "metadata": {
        "id": "t9caJmsgUbse",
        "colab_type": "text"
      },
      "source": [
        "Генератор данных для обучения на основе изображений из каталога"
      ]
    },
    {
      "cell_type": "code",
      "metadata": {
        "id": "LWk7sRxrUbsk",
        "colab_type": "code",
        "outputId": "b99dfddd-253f-43d1-c2ea-007451a4b922",
        "colab": {
          "base_uri": "https://localhost:8080/",
          "height": 51
        }
      },
      "source": [
        "%cd /content\n",
        "train_generator = datagen.flow_from_directory(\n",
        "    train_dir,\n",
        "    target_size=(img_width, img_height),\n",
        "    batch_size=batch_size,\n",
        "    class_mode='binary')"
      ],
      "execution_count": 8,
      "outputs": [
        {
          "output_type": "stream",
          "text": [
            "/content\n",
            "Found 17500 images belonging to 2 classes.\n"
          ],
          "name": "stdout"
        }
      ]
    },
    {
      "cell_type": "markdown",
      "metadata": {
        "id": "pd9_G93GUbtA",
        "colab_type": "text"
      },
      "source": [
        "Генератор данных для проверки на основе изображений из каталога"
      ]
    },
    {
      "cell_type": "code",
      "metadata": {
        "id": "5yZ046eZUbtE",
        "colab_type": "code",
        "outputId": "e954c814-535a-4316-bf98-5f6caec0a262",
        "colab": {
          "base_uri": "https://localhost:8080/",
          "height": 34
        }
      },
      "source": [
        "val_generator = datagen.flow_from_directory(\n",
        "    val_dir,\n",
        "    target_size=(img_width, img_height),\n",
        "    batch_size=batch_size,\n",
        "    class_mode='binary')\n"
      ],
      "execution_count": 9,
      "outputs": [
        {
          "output_type": "stream",
          "text": [
            "Found 3750 images belonging to 2 classes.\n"
          ],
          "name": "stdout"
        }
      ]
    },
    {
      "cell_type": "markdown",
      "metadata": {
        "id": "I0s6-ORrUbtT",
        "colab_type": "text"
      },
      "source": [
        "Генератор данных для тестирования на основе изображений из каталога"
      ]
    },
    {
      "cell_type": "code",
      "metadata": {
        "id": "G5Fso-nTUbtX",
        "colab_type": "code",
        "outputId": "488d7b10-6313-4559-ee40-e893958ee213",
        "colab": {
          "base_uri": "https://localhost:8080/",
          "height": 34
        }
      },
      "source": [
        "test_generator = datagen.flow_from_directory(\n",
        "    test_dir,\n",
        "    target_size=(img_width, img_height),\n",
        "    batch_size=batch_size,\n",
        "    class_mode='binary')"
      ],
      "execution_count": 10,
      "outputs": [
        {
          "output_type": "stream",
          "text": [
            "Found 3750 images belonging to 2 classes.\n"
          ],
          "name": "stdout"
        }
      ]
    },
    {
      "cell_type": "markdown",
      "metadata": {
        "id": "PwoocYEnUbtp",
        "colab_type": "text"
      },
      "source": [
        "# Обучаем модель с использованием генераторов\n",
        "\n",
        "train_generator - генератор данных для обучения\n",
        "\n",
        "validation_data - генератор данных для проверки"
      ]
    },
    {
      "cell_type": "code",
      "metadata": {
        "id": "ib7v4BtcifB9",
        "colab_type": "code",
        "colab": {}
      },
      "source": [
        "es = keras.callbacks.EarlyStopping(monitor='val_acc', min_delta=0, patience=3, verbose=0, mode='auto')"
      ],
      "execution_count": 0,
      "outputs": []
    },
    {
      "cell_type": "code",
      "metadata": {
        "id": "vGqH8rFGUbty",
        "colab_type": "code",
        "outputId": "9915e2be-c4a0-4025-c621-a063ae8b4a28",
        "colab": {
          "base_uri": "https://localhost:8080/",
          "height": 1000
        }
      },
      "source": [
        "model.fit_generator(\n",
        "    train_generator,\n",
        "    steps_per_epoch=nb_train_samples // batch_size,\n",
        "    epochs=epochs,\n",
        "    callbacks=[es],\n",
        "    validation_data=val_generator,\n",
        "    validation_steps=nb_validation_samples // batch_size)"
      ],
      "execution_count": 12,
      "outputs": [
        {
          "output_type": "stream",
          "text": [
            "Epoch 1/30\n",
            "545/546 [============================>.] - ETA: 0s - loss: 0.6722 - acc: 0.5749Epoch 1/30\n",
            "546/546 [==============================] - 175s 321ms/step - loss: 0.6722 - acc: 0.5749 - val_loss: 0.6012 - val_acc: 0.6704\n",
            "Epoch 2/30\n",
            "545/546 [============================>.] - ETA: 0s - loss: 0.6058 - acc: 0.6729Epoch 1/30\n",
            "546/546 [==============================] - 175s 320ms/step - loss: 0.6058 - acc: 0.6729 - val_loss: 0.5638 - val_acc: 0.7150\n",
            "Epoch 3/30\n",
            "545/546 [============================>.] - ETA: 0s - loss: 0.5608 - acc: 0.7068Epoch 1/30\n",
            "546/546 [==============================] - 175s 320ms/step - loss: 0.5606 - acc: 0.7068 - val_loss: 0.5081 - val_acc: 0.7439\n",
            "Epoch 4/30\n",
            "545/546 [============================>.] - ETA: 0s - loss: 0.5264 - acc: 0.7442Epoch 1/30\n",
            "546/546 [==============================] - 175s 320ms/step - loss: 0.5261 - acc: 0.7443 - val_loss: 0.4687 - val_acc: 0.7807\n",
            "Epoch 5/30\n",
            "545/546 [============================>.] - ETA: 0s - loss: 0.5041 - acc: 0.7513Epoch 1/30\n",
            "546/546 [==============================] - 175s 320ms/step - loss: 0.5040 - acc: 0.7513 - val_loss: 0.4688 - val_acc: 0.7772\n",
            "Epoch 6/30\n",
            "545/546 [============================>.] - ETA: 0s - loss: 0.4783 - acc: 0.7734Epoch 1/30\n",
            "546/546 [==============================] - 174s 318ms/step - loss: 0.4781 - acc: 0.7735 - val_loss: 0.4413 - val_acc: 0.7962\n",
            "Epoch 7/30\n",
            "545/546 [============================>.] - ETA: 0s - loss: 0.4620 - acc: 0.7819Epoch 1/30\n",
            "546/546 [==============================] - 173s 317ms/step - loss: 0.4620 - acc: 0.7819 - val_loss: 0.4147 - val_acc: 0.8069\n",
            "Epoch 8/30\n",
            "545/546 [============================>.] - ETA: 0s - loss: 0.4469 - acc: 0.7912Epoch 1/30\n",
            "546/546 [==============================] - 173s 318ms/step - loss: 0.4468 - acc: 0.7913 - val_loss: 0.4287 - val_acc: 0.8061\n",
            "Epoch 9/30\n",
            "545/546 [============================>.] - ETA: 0s - loss: 0.4320 - acc: 0.8049Epoch 1/30\n",
            "546/546 [==============================] - 173s 316ms/step - loss: 0.4319 - acc: 0.8051 - val_loss: 0.4081 - val_acc: 0.8178\n",
            "Epoch 10/30\n",
            "545/546 [============================>.] - ETA: 0s - loss: 0.4231 - acc: 0.8090Epoch 1/30\n",
            "546/546 [==============================] - 173s 317ms/step - loss: 0.4232 - acc: 0.8089 - val_loss: 0.4146 - val_acc: 0.8133\n",
            "Epoch 11/30\n",
            "545/546 [============================>.] - ETA: 0s - loss: 0.4165 - acc: 0.8107Epoch 1/30\n",
            "546/546 [==============================] - 174s 318ms/step - loss: 0.4164 - acc: 0.8106 - val_loss: 0.3856 - val_acc: 0.8210\n",
            "Epoch 12/30\n",
            "545/546 [============================>.] - ETA: 0s - loss: 0.3961 - acc: 0.8255Epoch 1/30\n",
            "546/546 [==============================] - 173s 317ms/step - loss: 0.3960 - acc: 0.8255 - val_loss: 0.3851 - val_acc: 0.8285\n",
            "Epoch 13/30\n",
            "545/546 [============================>.] - ETA: 0s - loss: 0.3869 - acc: 0.8260Epoch 1/30\n",
            "546/546 [==============================] - 173s 317ms/step - loss: 0.3871 - acc: 0.8259 - val_loss: 0.3730 - val_acc: 0.8277\n",
            "Epoch 14/30\n",
            "545/546 [============================>.] - ETA: 0s - loss: 0.3823 - acc: 0.8336Epoch 1/30\n",
            "546/546 [==============================] - 173s 317ms/step - loss: 0.3822 - acc: 0.8338 - val_loss: 0.4116 - val_acc: 0.8106\n",
            "Epoch 15/30\n",
            "545/546 [============================>.] - ETA: 0s - loss: 0.3754 - acc: 0.8349Epoch 1/30\n",
            "546/546 [==============================] - 174s 318ms/step - loss: 0.3756 - acc: 0.8349 - val_loss: 0.3574 - val_acc: 0.8462\n",
            "Epoch 16/30\n",
            "545/546 [============================>.] - ETA: 0s - loss: 0.3644 - acc: 0.8402Epoch 1/30\n",
            "546/546 [==============================] - 172s 314ms/step - loss: 0.3643 - acc: 0.8402 - val_loss: 0.3482 - val_acc: 0.8408\n",
            "Epoch 17/30\n",
            "545/546 [============================>.] - ETA: 0s - loss: 0.3569 - acc: 0.8468Epoch 1/30\n",
            "546/546 [==============================] - 171s 313ms/step - loss: 0.3567 - acc: 0.8469 - val_loss: 0.3415 - val_acc: 0.8520\n",
            "Epoch 18/30\n",
            "545/546 [============================>.] - ETA: 0s - loss: 0.3482 - acc: 0.8503Epoch 1/30\n",
            "546/546 [==============================] - 170s 311ms/step - loss: 0.3480 - acc: 0.8504 - val_loss: 0.3379 - val_acc: 0.8512\n",
            "Epoch 19/30\n",
            "545/546 [============================>.] - ETA: 0s - loss: 0.3428 - acc: 0.8523Epoch 1/30\n",
            "546/546 [==============================] - 171s 314ms/step - loss: 0.3429 - acc: 0.8521 - val_loss: 0.3628 - val_acc: 0.8373\n",
            "Epoch 20/30\n",
            "545/546 [============================>.] - ETA: 0s - loss: 0.3337 - acc: 0.8589Epoch 1/30\n",
            "546/546 [==============================] - 171s 314ms/step - loss: 0.3336 - acc: 0.8589 - val_loss: 0.3326 - val_acc: 0.8574\n",
            "Epoch 21/30\n",
            "545/546 [============================>.] - ETA: 0s - loss: 0.3309 - acc: 0.8596Epoch 1/30\n",
            "546/546 [==============================] - 173s 318ms/step - loss: 0.3309 - acc: 0.8595 - val_loss: 0.3137 - val_acc: 0.8681\n",
            "Epoch 22/30\n",
            "545/546 [============================>.] - ETA: 0s - loss: 0.3244 - acc: 0.8603Epoch 1/30\n",
            "546/546 [==============================] - 172s 316ms/step - loss: 0.3246 - acc: 0.8603 - val_loss: 0.3371 - val_acc: 0.8502\n",
            "Epoch 23/30\n",
            "545/546 [============================>.] - ETA: 0s - loss: 0.3240 - acc: 0.8618Epoch 1/30\n",
            "546/546 [==============================] - 172s 314ms/step - loss: 0.3239 - acc: 0.8619 - val_loss: 0.3004 - val_acc: 0.8715\n",
            "Epoch 24/30\n",
            "545/546 [============================>.] - ETA: 0s - loss: 0.3205 - acc: 0.8633Epoch 1/30\n",
            "546/546 [==============================] - 172s 315ms/step - loss: 0.3206 - acc: 0.8632 - val_loss: 0.3171 - val_acc: 0.8627\n",
            "Epoch 25/30\n",
            "545/546 [============================>.] - ETA: 0s - loss: 0.3050 - acc: 0.8712Epoch 1/30\n",
            "546/546 [==============================] - 172s 315ms/step - loss: 0.3050 - acc: 0.8713 - val_loss: 0.2978 - val_acc: 0.8742\n",
            "Epoch 26/30\n",
            "545/546 [============================>.] - ETA: 0s - loss: 0.3111 - acc: 0.8678Epoch 1/30\n",
            "546/546 [==============================] - 172s 316ms/step - loss: 0.3108 - acc: 0.8679 - val_loss: 0.3089 - val_acc: 0.8681\n",
            "Epoch 27/30\n",
            "545/546 [============================>.] - ETA: 0s - loss: 0.3019 - acc: 0.8731Epoch 1/30\n",
            "546/546 [==============================] - 173s 317ms/step - loss: 0.3020 - acc: 0.8730 - val_loss: 0.3094 - val_acc: 0.8640\n",
            "Epoch 28/30\n",
            "545/546 [============================>.] - ETA: 0s - loss: 0.2995 - acc: 0.8739Epoch 1/30\n",
            "546/546 [==============================] - 172s 315ms/step - loss: 0.2994 - acc: 0.8739 - val_loss: 0.3034 - val_acc: 0.8731\n"
          ],
          "name": "stdout"
        },
        {
          "output_type": "execute_result",
          "data": {
            "text/plain": [
              "<tensorflow.python.keras.callbacks.History at 0x7fab46084710>"
            ]
          },
          "metadata": {
            "tags": []
          },
          "execution_count": 12
        }
      ]
    },
    {
      "cell_type": "markdown",
      "metadata": {
        "id": "sthVdEp0UbuB",
        "colab_type": "text"
      },
      "source": [
        "# Оцениваем качество работы сети с помощью генератора"
      ]
    },
    {
      "cell_type": "code",
      "metadata": {
        "id": "YrIuCe9SUbuS",
        "colab_type": "code",
        "colab": {
          "base_uri": "https://localhost:8080/",
          "height": 34
        },
        "outputId": "8ccb0824-9276-49a0-abc6-57fbc793f149"
      },
      "source": [
        "scores = model.evaluate_generator(test_generator, nb_test_samples // batch_size)\n",
        "print(\"Аккуратность на тестовых данных: %.2f%%\" % (scores[1]*100))"
      ],
      "execution_count": 14,
      "outputs": [
        {
          "output_type": "stream",
          "text": [
            "Аккуратность на тестовых данных: 88.06%\n"
          ],
          "name": "stdout"
        }
      ]
    }
  ]
}