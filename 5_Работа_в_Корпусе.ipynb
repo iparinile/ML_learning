{
  "nbformat": 4,
  "nbformat_minor": 0,
  "metadata": {
    "colab": {
      "name": " 5 - Работа в  Корпусе.ipynb",
      "provenance": [],
      "include_colab_link": true
    },
    "kernelspec": {
      "name": "python3",
      "display_name": "Python 3"
    }
  },
  "cells": [
    {
      "cell_type": "markdown",
      "metadata": {
        "id": "view-in-github",
        "colab_type": "text"
      },
      "source": [
        "<a href=\"https://colab.research.google.com/github/iparinile/ML_learning/blob/master/5_%D0%A0%D0%B0%D0%B1%D0%BE%D1%82%D0%B0_%D0%B2_%D0%9A%D0%BE%D1%80%D0%BF%D1%83%D1%81%D0%B5.ipynb\" target=\"_parent\"><img src=\"https://colab.research.google.com/assets/colab-badge.svg\" alt=\"Open In Colab\"/></a>"
      ]
    },
    {
      "cell_type": "code",
      "metadata": {
        "id": "WwklPlHrI81P",
        "colab_type": "code",
        "colab": {}
      },
      "source": [
        "import pandas as pd\n",
        "data = pd.read_csv('data.csv')\n",
        "# data.info()"
      ],
      "execution_count": 0,
      "outputs": []
    },
    {
      "cell_type": "code",
      "metadata": {
        "id": "0m95bSygKEMj",
        "colab_type": "code",
        "colab": {}
      },
      "source": [
        "y = data['diagnosis']\n",
        "y.replace('M', 1, inplace=True)\n",
        "y.replace('B', 0, inplace=True)\n",
        "# y.head(20)\n",
        "X = data.drop(['id', 'diagnosis', 'Unnamed: 32'], axis = 1)"
      ],
      "execution_count": 0,
      "outputs": []
    },
    {
      "cell_type": "code",
      "metadata": {
        "id": "cKhphk_3Lp44",
        "colab_type": "code",
        "colab": {}
      },
      "source": [
        "from sklearn.model_selection import train_test_split\n",
        "X_train, X_test, y_train, y_test = train_test_split(X, y, test_size=0.33, random_state=42)"
      ],
      "execution_count": 0,
      "outputs": []
    },
    {
      "cell_type": "code",
      "metadata": {
        "id": "KdP1XT2YL5zL",
        "colab_type": "code",
        "outputId": "8457a656-653e-4cb4-b15e-97f2eadace7e",
        "colab": {
          "base_uri": "https://localhost:8080/",
          "height": 122
        }
      },
      "source": [
        "from sklearn.linear_model import LogisticRegression\n",
        "lr = LogisticRegression()\n",
        "lr.fit(X_train, y_train)\n",
        "\n",
        "y_pred = lr.predict(X_test)\n",
        "\n",
        "# from sklearn.metrics import classification_report\n",
        "# print(classification_report(y_test, y_pred))\n",
        "\n",
        "from sklearn.metrics import precision_score, recall_score \n",
        "print('precision = ', precision_score(y_test, y_pred))\n",
        "print('recall = ', recall_score(y_test, y_pred))\n",
        "print()\n"
      ],
      "execution_count": 7,
      "outputs": [
        {
          "output_type": "stream",
          "text": [
            "precision =  0.9402985074626866\n",
            "recall =  0.9402985074626866\n",
            "\n"
          ],
          "name": "stdout"
        },
        {
          "output_type": "stream",
          "text": [
            "/usr/local/lib/python3.6/dist-packages/sklearn/linear_model/logistic.py:432: FutureWarning: Default solver will be changed to 'lbfgs' in 0.22. Specify a solver to silence this warning.\n",
            "  FutureWarning)\n"
          ],
          "name": "stderr"
        }
      ]
    },
    {
      "cell_type": "code",
      "metadata": {
        "id": "lppRBcBjPAQp",
        "colab_type": "code",
        "outputId": "121dca00-19ad-47c6-d912-e41391e484e0",
        "colab": {
          "base_uri": "https://localhost:8080/",
          "height": 68
        }
      },
      "source": [
        "from sklearn.tree import DecisionTreeClassifier\n",
        "\n",
        "dt = DecisionTreeClassifier()\n",
        "dt.fit(X_train, y_train)\n",
        "\n",
        "y_pred = dt.predict(X_test)\n",
        "\n",
        "from sklearn.metrics import precision_score, recall_score \n",
        "print('precision = ', precision_score(y_test, y_pred))\n",
        "print('recall = ', recall_score(y_test, y_pred))\n",
        "print()\n"
      ],
      "execution_count": 10,
      "outputs": [
        {
          "output_type": "stream",
          "text": [
            "precision =  0.8493150684931506\n",
            "recall =  0.9253731343283582\n",
            "\n"
          ],
          "name": "stdout"
        }
      ]
    },
    {
      "cell_type": "code",
      "metadata": {
        "id": "8smAeUATW3J5",
        "colab_type": "code",
        "outputId": "a81c316c-dcdb-4272-e708-8983862d9bcc",
        "colab": {
          "base_uri": "https://localhost:8080/",
          "height": 68
        }
      },
      "source": [
        "from sklearn.ensemble import GradientBoostingClassifier\n",
        "\n",
        "gb = GradientBoostingClassifier()\n",
        "gb.fit(X_train, y_train)\n",
        "\n",
        "y_pred = gb.predict(X_test)\n",
        "\n",
        "from sklearn.metrics import precision_score, recall_score \n",
        "print('precision = ', precision_score(y_test, y_pred))\n",
        "print('recall = ', recall_score(y_test, y_pred))\n",
        "print()\n",
        "\n"
      ],
      "execution_count": 9,
      "outputs": [
        {
          "output_type": "stream",
          "text": [
            "precision =  0.9538461538461539\n",
            "recall =  0.9253731343283582\n",
            "\n"
          ],
          "name": "stdout"
        }
      ]
    },
    {
      "cell_type": "code",
      "metadata": {
        "id": "R9uIQw5NW_2H",
        "colab_type": "code",
        "outputId": "da351e12-7687-49a8-be51-fdab78c2f872",
        "colab": {
          "base_uri": "https://localhost:8080/",
          "height": 122
        }
      },
      "source": [
        "from sklearn.ensemble import RandomForestClassifier\n",
        "\n",
        "rf = RandomForestClassifier()\n",
        "rf.fit(X_train, y_train)\n",
        "\n",
        "y_pred = rf.predict(X_test)\n",
        "\n",
        "from sklearn.metrics import precision_score, recall_score \n",
        "print('precision = ', precision_score(y_test, y_pred))\n",
        "print('recall = ', recall_score(y_test, y_pred))\n",
        "print()"
      ],
      "execution_count": 8,
      "outputs": [
        {
          "output_type": "stream",
          "text": [
            "precision =  0.9402985074626866\n",
            "recall =  0.9402985074626866\n",
            "\n"
          ],
          "name": "stdout"
        },
        {
          "output_type": "stream",
          "text": [
            "/usr/local/lib/python3.6/dist-packages/sklearn/ensemble/forest.py:245: FutureWarning: The default value of n_estimators will change from 10 in version 0.20 to 100 in 0.22.\n",
            "  \"10 in version 0.20 to 100 in 0.22.\", FutureWarning)\n"
          ],
          "name": "stderr"
        }
      ]
    },
    {
      "cell_type": "code",
      "metadata": {
        "id": "DBeD4-KcZOja",
        "colab_type": "code",
        "colab": {
          "base_uri": "https://localhost:8080/",
          "height": 68
        },
        "outputId": "10e48624-b345-4314-d303-1b1903376c09"
      },
      "source": [
        "from sklearn.linear_model import RidgeClassifierCV\n",
        "\n",
        "rf = RidgeClassifierCV(class_weight={0: 0.5}, alphas=[.009, 0.01 ])\n",
        "rf.fit(X_train, y_train)\n",
        "\n",
        "y_pred = rf.predict(X_test)\n",
        "\n",
        "from sklearn.metrics import precision_score, recall_score \n",
        "print('precision = ', precision_score(y_test, y_pred))\n",
        "print('recall = ', recall_score(y_test, y_pred))\n",
        "print()\n"
      ],
      "execution_count": 33,
      "outputs": [
        {
          "output_type": "stream",
          "text": [
            "precision =  0.8571428571428571\n",
            "recall =  0.9850746268656716\n",
            "\n"
          ],
          "name": "stdout"
        }
      ]
    },
    {
      "cell_type": "code",
      "metadata": {
        "id": "bu_L8dwdb422",
        "colab_type": "code",
        "colab": {
          "base_uri": "https://localhost:8080/",
          "height": 34
        },
        "outputId": "bef46e0d-1d55-46d4-e23d-58e7c60197ac"
      },
      "source": [
        "rf.alpha_ "
      ],
      "execution_count": 32,
      "outputs": [
        {
          "output_type": "execute_result",
          "data": {
            "text/plain": [
              "0.009"
            ]
          },
          "metadata": {
            "tags": []
          },
          "execution_count": 32
        }
      ]
    }
  ]
}